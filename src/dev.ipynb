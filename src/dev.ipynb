{
 "cells": [
  {
   "cell_type": "code",
   "execution_count": null,
   "metadata": {},
   "outputs": [],
   "source": [
    "import pandas as pd\n",
    "import numpy as np"
   ]
  },
  {
   "cell_type": "code",
   "execution_count": null,
   "metadata": {},
   "outputs": [],
   "source": [
    "zonds = pd.read_excel('data/пример данных.xlsx', sheet_name='зонды')\n",
    "clusters = pd.read_excel('data/пример данных.xlsx', sheet_name='кластеры', skiprows=2)"
   ]
  },
  {
   "cell_type": "code",
   "execution_count": null,
   "metadata": {},
   "outputs": [],
   "source": [
    "zonds.info()\n",
    "zonds.describe()\n",
    "clusters.info()\n",
    "clusters['p_code'] = clusters['poroda'].astype('category').cat.codes\n",
    "# zonds.head()"
   ]
  },
  {
   "cell_type": "code",
   "execution_count": null,
   "metadata": {},
   "outputs": [],
   "source": [
    "zonds[zonds.well == 1]\n",
    "poroda_group = clusters.groupby('p_code')\n",
    "\n",
    "means = pd.DataFrame([poroda_group[fld].mean() for fld in ['q', 'f']])\n",
    "std = np.transpose(pd.DataFrame([poroda_group[fld].std() for fld in ['q', 'f']]))"
   ]
  },
  {
   "cell_type": "code",
   "execution_count": null,
   "metadata": {},
   "outputs": [],
   "source": [
    "std[std['q'] != np.NaN]\n",
    "clusters[clusters['p_code'] == 0]"
   ]
  },
  {
   "cell_type": "code",
   "execution_count": null,
   "metadata": {},
   "outputs": [],
   "source": [
    "cl_name = pd.DataFrame(pd.Series(pd.unique(clusters['poroda'])), columns=['poroda'])\n",
    "idx = cl_name.keys()"
   ]
  },
  {
   "cell_type": "code",
   "execution_count": null,
   "metadata": {},
   "outputs": [],
   "source": [
    "cat = clusters.dtypes == object\n",
    "cat_cols = clusters.columns[cat].tolist()"
   ]
  }
 ],
 "metadata": {
  "kernelspec": {
   "display_name": "Python 3",
   "language": "python",
   "name": "python3"
  },
  "language_info": {
   "codemirror_mode": {
    "name": "ipython",
    "version": 3
   },
   "file_extension": ".py",
   "mimetype": "text/x-python",
   "name": "python",
   "nbconvert_exporter": "python",
   "pygments_lexer": "ipython3",
   "version": "3.6.8"
  }
 },
 "nbformat": 4,
 "nbformat_minor": 2
}
