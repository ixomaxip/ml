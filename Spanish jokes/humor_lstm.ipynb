{
 "cells": [
  {
   "cell_type": "code",
   "execution_count": 133,
   "metadata": {},
   "outputs": [],
   "source": [
    "import tensorflow as tf\n",
    "import sklearn, tensorflow.keras\n",
    "from sklearn import preprocessing\n",
    "from sklearn import svm\n",
    "from sklearn.metrics import accuracy_score, f1_score, precision_score, recall_score\n",
    "from tensorflow.keras.models import Sequential\n",
    "from tensorflow.keras.layers import Dense, Dropout, Embedding, LSTM\n",
    "from tensorflow.keras import callbacks\n",
    "from tensorflow.keras.callbacks import EarlyStopping, ModelCheckpoint\n",
    "from tensorflow.keras.layers import Dense, Embedding, LSTM, Flatten, GRU, SimpleRNN, Conv1D,MaxPooling1D\n",
    "from tensorflow.keras.optimizers import RMSprop\n",
    "from tensorflow.keras.layers import Bidirectional\n",
    "from tensorflow.keras.layers import Input, concatenate\n",
    "from tensorflow.keras.models import Model\n",
    "from tensorflow.keras import utils\n",
    "from tensorflow.keras.preprocessing.text import Tokenizer\n",
    "from tensorflow.keras.preprocessing import sequence\n",
    "from sklearn.feature_extraction.text import TfidfVectorizer\n",
    "import copy"
   ]
  },
  {
   "cell_type": "code",
   "execution_count": 156,
   "metadata": {},
   "outputs": [],
   "source": [
    "import numpy as  np\n",
    "import random\n",
    "import re\n",
    "import nltk\n",
    "from nltk.corpus import stopwords\n",
    "from nltk.tokenize import word_tokenize\n",
    "import pandas as pd\n",
    "from nltk.stem import SnowballStemmer\n",
    "\n",
    "word2vec = r\"SBW-vectors-300-min5.txt\"\n",
    "train=r\"haha_2019_train_preprocessed_lemmatized.csv\"\n",
    "test=r\"haha_2019_test_preprocessed_lemmatized.csv\"\n",
    "val1=r\"train.csv\"\n",
    "val2=r\"test.csv\"\n",
    "val3=r\"ev.csv\"\n",
    "val_ov=r\"values1_oversampled.csv\"\n",
    "texts_ov=r\"texts_train_oversampled.csv\"\n",
    "categories_ov=r\"categories_train_oversampled.csv\"\n",
    "#train_sent1=r\"C:\\Users\\Annie\\Documents\\Working\\Spanish jokes\\data\\haha_2019_sent_politics_preprocessed_lemmatized.csv\"\n",
    "#train_sent2=r\"C:\\Users\\Annie\\Documents\\Working\\Spanish jokes\\data\\haha_2019_sent_preprocessed_lemmatized.csv\""
   ]
  },
  {
   "cell_type": "code",
   "execution_count": 157,
   "metadata": {},
   "outputs": [],
   "source": [
    "#text preprocessing\n",
    "stemmer = SnowballStemmer('spanish')\n",
    "\n",
    "def clean_text(text):\n",
    "    text = text.replace(\"\\\\\", \" \").replace(u\"╚\", \" \").replace(u\"╩\", \" \")\n",
    "    text = text.lower()\n",
    "    text = re.sub('\\-\\s\\r\\n\\s{1,}|\\-\\s\\r\\n|\\r\\n', '', text) \n",
    "    text = re.sub('[¡¿.,:;_%©?*,!@#$%^&()\\d]|[+=]|[[]|[]]|[/]|\"|\\s{2,}|-', ' ', text)\n",
    "    words = text.split()\n",
    "    words = [w for w in words if len(w)>=3]\n",
    "    stop_words = set(stopwords.words('spanish'))\n",
    "    words = [w for w in words if not w in stop_words]\n",
    "    text=' '.join(words)\n",
    "    tokens = word_tokenize(text)\n",
    "    #stemmed = [stemmer.stem(i) for i in tokens]\n",
    "    return tokens"
   ]
  },
  {
   "cell_type": "code",
   "execution_count": 158,
   "metadata": {},
   "outputs": [],
   "source": [
    "#read csv\n",
    "values= pd.read_csv(train, sep=',', header=None, encoding = 'utf-8-sig').values\n",
    "np.random.seed(42)\n",
    "np.random.shuffle(values)\n",
    "#df=pd.DataFrame(values)\n",
    "\n",
    "m = len(values)\n",
    "\n",
    "train_length = int(0.9 * m)\n",
    "train_data, test_data = values[:train_length], values[train_length:]\n",
    "\n",
    "df=pd.DataFrame(train_data)\n",
    "\n",
    "texts_train=df[1].tolist()\n",
    "scores_train=df[9].tolist()\n",
    "categories_train_raw = [1 if str(s)!='nan' else 0 for s in scores_train]\n",
    "\n",
    "df=pd.DataFrame(test_data)\n",
    "\n",
    "texts_test=df[1].tolist()\n",
    "texts_test_original=df[1].tolist()\n",
    "scores_test=df[9].tolist()\n",
    "categories_test_raw = [1 if str(s)!='nan' else 0 for s in scores_test]\n",
    "\n",
    "#texts_train= pd.read_csv(texts_ov, sep=';', header=None, encoding = 'utf-8-sig')[0].tolist()\n",
    "#categories_train_row= pd.read_csv(texts_ov, sep=';', header=None, encoding = 'utf-8-sig')[0].tolist()"
   ]
  },
  {
   "cell_type": "code",
   "execution_count": 159,
   "metadata": {},
   "outputs": [],
   "source": [
    "df=pd.read_csv(test, sep=',', header=None, encoding = 'utf-8-sig')\n",
    "texts_ev=df[1].tolist()"
   ]
  },
  {
   "cell_type": "code",
   "execution_count": 160,
   "metadata": {},
   "outputs": [],
   "source": [
    "values1= pd.read_csv(val1, sep=';', header=None, encoding = 'utf-8-sig').drop([0,1], axis=1).values\n",
    "from sklearn.preprocessing import MinMaxScaler\n",
    "scaler = MinMaxScaler()\n",
    "values1=scaler.fit_transform(values1)\n",
    "#values1=scaler.transform(values1)"
   ]
  },
  {
   "cell_type": "code",
   "execution_count": 161,
   "metadata": {},
   "outputs": [],
   "source": [
    "values2= pd.read_csv(val2, sep=';', header=None, encoding = 'utf-8-sig').drop([0,1], axis=1).values\n",
    "values2=scaler.transform(values2)"
   ]
  },
  {
   "cell_type": "code",
   "execution_count": 162,
   "metadata": {},
   "outputs": [],
   "source": [
    "values3= pd.read_csv(val3, sep=';', header=None, encoding = 'utf-8-sig').drop([0,1], axis=1).values\n",
    "values3=scaler.transform(values3)"
   ]
  },
  {
   "cell_type": "code",
   "execution_count": 111,
   "metadata": {},
   "outputs": [
    {
     "name": "stdout",
     "output_type": "stream",
     "text": [
      "мажоритарный класс 13287\n",
      "миноритарный класс 8312\n",
      "4500\n",
      "4000\n",
      "3500\n",
      "3000\n",
      "2500\n",
      "2000\n",
      "1500\n",
      "1000\n",
      "500\n",
      "0\n"
     ]
    }
   ],
   "source": [
    "#oversampling\n",
    "count_maj=0\n",
    "for c in categories_train_raw:\n",
    "    if c==0:\n",
    "        count_maj+=1\n",
    "print('мажоритарный класс '+str(count_maj))\n",
    "\n",
    "categories_jokes=[]\n",
    "values_jokes=[]\n",
    "texts_jokes=[]\n",
    "\n",
    "for i in range(len(texts_train)):\n",
    "        if categories_train_raw[i]==1:\n",
    "            categories_jokes.append(categories_train_raw[i])\n",
    "            values_jokes.append(values1[i])\n",
    "            texts_jokes.append(texts_train[i])\n",
    "        \n",
    "\n",
    "print('миноритарный класс '+str(len(texts_jokes)))\n",
    "values_jokes=np.array(values_jokes)\n",
    "\n",
    "random.seed(42)\n",
    "initial_size=len(texts_jokes)\n",
    "new_size=len(texts_jokes)\n",
    "while new_size<count_maj:\n",
    "    r=random.randint(0,initial_size-1)\n",
    "    values1=np.vstack((values1, values_jokes[r]))\n",
    "    texts_train=np.append(texts_train, texts_jokes[r])\n",
    "    categories_train_raw=np.append(categories_train_raw, categories_jokes[r])\n",
    "    new_size+=1\n",
    "    a=count_maj-new_size\n",
    "    if a%500==0:\n",
    "        print(a)"
   ]
  },
  {
   "cell_type": "code",
   "execution_count": 163,
   "metadata": {},
   "outputs": [],
   "source": [
    "sw_list=stopwords.words('spanish')\n",
    "vectorizer = TfidfVectorizer(max_features=5000)\n",
    "\n",
    "for i in range(len(texts_train)):\n",
    "    texts_train[i]=' '.join(clean_text(texts_train[i]))\n",
    "for i in range(len(texts_test)):\n",
    "    texts_test[i]=' '.join(clean_text(texts_test[i]))\n",
    "for i in range(len(texts_ev)):\n",
    "    texts_ev[i]=' '.join(clean_text(texts_ev[i]))\n",
    "    \n",
    "\n",
    "tfidf_train = vectorizer.fit_transform(texts_train).toarray()\n",
    "tfidf_test = vectorizer.transform(texts_test).toarray()\n",
    "tfidf_ev = vectorizer.transform(texts_ev).toarray()"
   ]
  },
  {
   "cell_type": "code",
   "execution_count": 113,
   "metadata": {},
   "outputs": [],
   "source": [
    "import pickle\n",
    "\n",
    "with open('categories_train_raw.dat','wb') as file:\n",
    "    pickle.dump(categories_train_raw, file)\n",
    "with open('texts_train.dat','wb') as file:\n",
    "    pickle.dump(texts_train, file)\n",
    "with open('values1.dat','wb') as file:\n",
    "    pickle.dump(values1, file)"
   ]
  },
  {
   "cell_type": "code",
   "execution_count": 155,
   "metadata": {},
   "outputs": [
    {
     "ename": "EOFError",
     "evalue": "Ran out of input",
     "output_type": "error",
     "traceback": [
      "\u001b[0;31m---------------------------------------------------------------------------\u001b[0m",
      "\u001b[0;31mEOFError\u001b[0m                                  Traceback (most recent call last)",
      "\u001b[0;32m<ipython-input-155-e872fb9c9a29>\u001b[0m in \u001b[0;36m<module>\u001b[0;34m\u001b[0m\n\u001b[1;32m      1\u001b[0m \u001b[0;32mwith\u001b[0m \u001b[0mopen\u001b[0m\u001b[0;34m(\u001b[0m\u001b[0;34m'categories_train_raw.dat'\u001b[0m\u001b[0;34m,\u001b[0m\u001b[0;34m'rb'\u001b[0m\u001b[0;34m)\u001b[0m \u001b[0;32mas\u001b[0m \u001b[0mfile\u001b[0m\u001b[0;34m:\u001b[0m\u001b[0;34m\u001b[0m\u001b[0;34m\u001b[0m\u001b[0m\n\u001b[0;32m----> 2\u001b[0;31m     \u001b[0mcategories_train\u001b[0m\u001b[0;34m=\u001b[0m\u001b[0mpickle\u001b[0m\u001b[0;34m.\u001b[0m\u001b[0mload\u001b[0m\u001b[0;34m(\u001b[0m\u001b[0mfile\u001b[0m\u001b[0;34m)\u001b[0m\u001b[0;34m\u001b[0m\u001b[0;34m\u001b[0m\u001b[0m\n\u001b[0m\u001b[1;32m      3\u001b[0m \u001b[0;32mwith\u001b[0m \u001b[0mopen\u001b[0m\u001b[0;34m(\u001b[0m\u001b[0;34m'texts_train.dat'\u001b[0m\u001b[0;34m,\u001b[0m\u001b[0;34m'rb'\u001b[0m\u001b[0;34m)\u001b[0m \u001b[0;32mas\u001b[0m \u001b[0mfile\u001b[0m\u001b[0;34m:\u001b[0m\u001b[0;34m\u001b[0m\u001b[0;34m\u001b[0m\u001b[0m\n\u001b[1;32m      4\u001b[0m     \u001b[0mtexts_train\u001b[0m\u001b[0;34m=\u001b[0m\u001b[0mpickle\u001b[0m\u001b[0;34m.\u001b[0m\u001b[0mload\u001b[0m\u001b[0;34m(\u001b[0m\u001b[0mfile\u001b[0m\u001b[0;34m)\u001b[0m\u001b[0;34m\u001b[0m\u001b[0;34m\u001b[0m\u001b[0m\n\u001b[1;32m      5\u001b[0m \u001b[0;32mwith\u001b[0m \u001b[0mopen\u001b[0m\u001b[0;34m(\u001b[0m\u001b[0;34m'values1.dat'\u001b[0m\u001b[0;34m,\u001b[0m\u001b[0;34m'rb'\u001b[0m\u001b[0;34m)\u001b[0m \u001b[0;32mas\u001b[0m \u001b[0mfile\u001b[0m\u001b[0;34m:\u001b[0m\u001b[0;34m\u001b[0m\u001b[0;34m\u001b[0m\u001b[0m\n",
      "\u001b[0;31mEOFError\u001b[0m: Ran out of input"
     ]
    }
   ],
   "source": [
    "with open('categories_train_raw.dat','rb') as file:\n",
    "    categories_train=pickle.load(file)\n",
    "with open('texts_train.dat','rb') as file:\n",
    "    texts_train=pickle.load(file)\n",
    "with open('values1.dat','rb') as file:\n",
    "    values1=pickle.load(file)"
   ]
  },
  {
   "cell_type": "code",
   "execution_count": 114,
   "metadata": {},
   "outputs": [],
   "source": [
    "values1=np.hstack((tfidf_train,values1))\n",
    "values2=np.hstack((tfidf_test,values2))\n",
    "values3=np.hstack((tfidf_ev,values3))"
   ]
  },
  {
   "cell_type": "code",
   "execution_count": 164,
   "metadata": {},
   "outputs": [
    {
     "name": "stdout",
     "output_type": "stream",
     "text": [
      "number of words: 28538\n"
     ]
    }
   ],
   "source": [
    "words=set()#set of all words\n",
    "for text in texts_train:\n",
    "    words_text=text.split();\n",
    "    words.update(words_text)\n",
    "for text in texts_test:\n",
    "    words_text=text.split();\n",
    "    words.update(words_text)\n",
    "for text in texts_ev:\n",
    "    words_text=text.split();\n",
    "    words.update(words_text)\n",
    "print(\"number of words: {0}\".format(len(words)))"
   ]
  },
  {
   "cell_type": "code",
   "execution_count": 165,
   "metadata": {},
   "outputs": [
    {
     "name": "stdout",
     "output_type": "stream",
     "text": [
      "iteration 100000\n",
      "iteration 200000\n",
      "iteration 300000\n",
      "iteration 400000\n",
      "iteration 500000\n",
      "iteration 600000\n",
      "iteration 700000\n",
      "iteration 800000\n",
      "iteration 900000\n",
      "iteration 1000000\n",
      "size of dictionary: 6949\n"
     ]
    }
   ],
   "source": [
    "embdict=dict()\n",
    "index=0\n",
    "\n",
    "with open(word2vec,'r',encoding = 'utf-8-sig')as f:\n",
    "    header = f.readline()\n",
    "    vocab_size, layer1_size = map(int, header.split())\n",
    "    binary_len = np.dtype('float32').itemsize * layer1_size\n",
    "    for line in range(vocab_size):\n",
    "        word=str(f.readline()).replace('b','').replace('\\'','').replace('\\\\n','').lower().split()\n",
    "        w = stemmer.stem(word[0])\n",
    "        if w in words:\n",
    "            word.remove(word[0])\n",
    "            emb = [float(x) for x in word]\n",
    "            embdict[str(w)]=emb\n",
    "        index+=1\n",
    "        if index%100000==0:\n",
    "            print(\"iteration \"+str(index))\n",
    "\n",
    "print(\"size of dictionary: {0}\".format(len(embdict)))\n",
    "del(words)"
   ]
  },
  {
   "cell_type": "code",
   "execution_count": 171,
   "metadata": {},
   "outputs": [
    {
     "name": "stdout",
     "output_type": "stream",
     "text": [
      "Found 28535 unique tokens.\n"
     ]
    }
   ],
   "source": [
    "# The maximum number of words to be used. (most frequent)\n",
    "MAX_NB_WORDS = 50000\n",
    "# Max number of words in each complaint.\n",
    "MAX_SEQUENCE_LENGTH = 250\n",
    "# This is fixed.\n",
    "EMBEDDING_DIM = 300\n",
    "\n",
    "tokenizer=Tokenizer()\n",
    "#tt=texts_train.tolist()\n",
    "tokenizer = Tokenizer(num_words=MAX_NB_WORDS, filters='!\"#$%&()*+,-./:;<=>?@[\\]^_`{|}~', lower=True)\n",
    "#tokenizer.fit_on_texts(tt+texts_test+texts_ev)\n",
    "tokenizer.fit_on_texts(texts_train+texts_test+texts_ev)\n",
    "word_index = tokenizer.word_index\n",
    "print('Found %s unique tokens.' % len(word_index))"
   ]
  },
  {
   "cell_type": "code",
   "execution_count": 172,
   "metadata": {},
   "outputs": [],
   "source": [
    "embedding_matrix = np.zeros((len(word_index), EMBEDDING_DIM))\n",
    "\n",
    "for word, i in tokenizer.word_index.items():\n",
    "    try:\n",
    "        embedding_vector = embdict[word]\n",
    "        if embedding_vector is not None:\n",
    "            embedding_matrix[i] = embedding_vector\n",
    "    except:\n",
    "        pass\n",
    "        #print(i)\n",
    "        #print(word)\n",
    "del(embdict)"
   ]
  },
  {
   "cell_type": "code",
   "execution_count": 173,
   "metadata": {},
   "outputs": [
    {
     "name": "stdout",
     "output_type": "stream",
     "text": [
      "Shape of data tensor: (21599, 250)\n",
      "Shape of data tensor: (2400, 250)\n",
      "Shape of data tensor: (6000, 250)\n"
     ]
    }
   ],
   "source": [
    "texts_train = tokenizer.texts_to_sequences(texts_train)\n",
    "texts_train = sequence.pad_sequences(texts_train, maxlen=MAX_SEQUENCE_LENGTH)\n",
    "print('Shape of data tensor:', texts_train.shape)\n",
    "texts_test = tokenizer.texts_to_sequences(texts_test)\n",
    "texts_test = sequence.pad_sequences(texts_test, maxlen=MAX_SEQUENCE_LENGTH)\n",
    "print('Shape of data tensor:', texts_test.shape)\n",
    "texts_ev = tokenizer.texts_to_sequences(texts_ev)\n",
    "texts_ev = sequence.pad_sequences(texts_ev, maxlen=MAX_SEQUENCE_LENGTH)\n",
    "print('Shape of data tensor:', texts_ev.shape)"
   ]
  },
  {
   "cell_type": "code",
   "execution_count": 174,
   "metadata": {},
   "outputs": [
    {
     "name": "stdout",
     "output_type": "stream",
     "text": [
      "250\n",
      "(21599, 250)\n",
      "(21599, 69)\n",
      "1000653\n",
      "(28535, 300)\n"
     ]
    }
   ],
   "source": [
    "print(len(texts_train[0]))\n",
    "print(texts_train.shape)\n",
    "print(values1.shape)\n",
    "print(vocab_size)\n",
    "print(embedding_matrix.shape)"
   ]
  },
  {
   "cell_type": "code",
   "execution_count": 175,
   "metadata": {},
   "outputs": [],
   "source": [
    "num_classes=2\n",
    "categories_train = tf.keras.utils.to_categorical(categories_train_raw, num_classes)\n",
    "categories_test = tf.keras.utils.to_categorical(categories_test_raw, num_classes)"
   ]
  },
  {
   "cell_type": "code",
   "execution_count": 176,
   "metadata": {},
   "outputs": [
    {
     "name": "stdout",
     "output_type": "stream",
     "text": [
      "(21599, 250)\n",
      "(2400, 250)\n",
      "(21599, 2)\n",
      "(2400, 2)\n"
     ]
    }
   ],
   "source": [
    "print(texts_train.shape)\n",
    "print(texts_test.shape)\n",
    "print(categories_train.shape)\n",
    "print(categories_test.shape)"
   ]
  },
  {
   "cell_type": "code",
   "execution_count": null,
   "metadata": {},
   "outputs": [],
   "source": [
    "import tensorflow.keras.backend as K\n",
    "def f1(y_true, y_pred):\n",
    "    def recall(y_true, y_pred):\n",
    "        \"\"\"Recall metric.\n",
    "\n",
    "        Only computes a batch-wise average of recall.\n",
    "\n",
    "        Computes the recall, a metric for multi-label classification of\n",
    "        how many relevant items are selected.\n",
    "        \"\"\"\n",
    "        true_positives = K.sum(K.round(K.clip(y_true * y_pred, 0, 1)))\n",
    "        possible_positives = K.sum(K.round(K.clip(y_true, 0, 1)))\n",
    "        recall = true_positives / (possible_positives + K.epsilon())\n",
    "        return recall\n",
    "\n",
    "    def precision(y_true, y_pred):\n",
    "        \"\"\"Precision metric.\n",
    "\n",
    "        Only computes a batch-wise average of precision.\n",
    "\n",
    "        Computes the precision, a metric for multi-label classification of\n",
    "        how many selected items are relevant.\n",
    "        \"\"\"\n",
    "        true_positives = K.sum(K.round(K.clip(y_true * y_pred, 0, 1)))\n",
    "        predicted_positives = K.sum(K.round(K.clip(y_pred, 0, 1)))\n",
    "        precision = true_positives / (predicted_positives + K.epsilon())\n",
    "        return precision\n",
    "    precision = precision(y_true, y_pred)\n",
    "    recall = recall(y_true, y_pred)\n",
    "    return 2*((precision*recall)/(precision+recall+K.epsilon()))"
   ]
  },
  {
   "cell_type": "code",
   "execution_count": 183,
   "metadata": {},
   "outputs": [
    {
     "name": "stdout",
     "output_type": "stream",
     "text": [
      "__________________________________________________________________________________________________\n",
      "Layer (type)                    Output Shape         Param #     Connected to                     \n",
      "==================================================================================================\n",
      "input_25 (InputLayer)           (None, 250)          0                                            \n",
      "__________________________________________________________________________________________________\n",
      "input_27 (InputLayer)           (None, 5000)         0                                            \n",
      "__________________________________________________________________________________________________\n",
      "embedding_11 (Embedding)        (None, 250, 300)     8560500     input_25[0][0]                   \n",
      "__________________________________________________________________________________________________\n",
      "dense_48 (Dense)                (None, 1024)         5121024     input_27[0][0]                   \n",
      "__________________________________________________________________________________________________\n",
      "conv1d_13 (Conv1D)              (None, 250, 64)      96064       embedding_11[0][0]               \n",
      "__________________________________________________________________________________________________\n",
      "dropout_41 (Dropout)            (None, 1024)         0           dense_48[0][0]                   \n",
      "__________________________________________________________________________________________________\n",
      "input_26 (InputLayer)           (None, 69)           0                                            \n",
      "__________________________________________________________________________________________________\n",
      "max_pooling1d_8 (MaxPooling1D)  (None, 24, 64)       0           conv1d_13[0][0]                  \n",
      "__________________________________________________________________________________________________\n",
      "dense_49 (Dense)                (None, 256)          262400      dropout_41[0][0]                 \n",
      "__________________________________________________________________________________________________\n",
      "dense_51 (Dense)                (None, 64)           4480        input_26[0][0]                   \n",
      "__________________________________________________________________________________________________\n",
      "conv1d_14 (Conv1D)              (None, 24, 64)       20544       max_pooling1d_8[0][0]            \n",
      "__________________________________________________________________________________________________\n",
      "dropout_42 (Dropout)            (None, 256)          0           dense_49[0][0]                   \n",
      "__________________________________________________________________________________________________\n",
      "dropout_44 (Dropout)            (None, 64)           0           dense_51[0][0]                   \n",
      "__________________________________________________________________________________________________\n",
      "max_pooling1d_9 (MaxPooling1D)  (None, 1, 64)        0           conv1d_14[0][0]                  \n",
      "__________________________________________________________________________________________________\n",
      "dense_50 (Dense)                (None, 64)           16448       dropout_42[0][0]                 \n",
      "__________________________________________________________________________________________________\n",
      "dense_52 (Dense)                (None, 64)           4160        dropout_44[0][0]                 \n",
      "__________________________________________________________________________________________________\n",
      "flatten_8 (Flatten)             (None, 64)           0           max_pooling1d_9[0][0]            \n",
      "__________________________________________________________________________________________________\n",
      "dropout_43 (Dropout)            (None, 64)           0           dense_50[0][0]                   \n",
      "__________________________________________________________________________________________________\n",
      "dropout_45 (Dropout)            (None, 64)           0           dense_52[0][0]                   \n",
      "__________________________________________________________________________________________________\n",
      "concatenate_8 (Concatenate)     (None, 192)          0           flatten_8[0][0]                  \n",
      "                                                                 dropout_43[0][0]                 \n",
      "                                                                 dropout_45[0][0]                 \n",
      "__________________________________________________________________________________________________\n",
      "dense_53 (Dense)                (None, 64)           12352       concatenate_8[0][0]              \n",
      "__________________________________________________________________________________________________\n",
      "dropout_46 (Dropout)            (None, 64)           0           dense_53[0][0]                   \n",
      "__________________________________________________________________________________________________\n",
      "dense_54 (Dense)                (None, 64)           4160        dropout_46[0][0]                 \n",
      "__________________________________________________________________________________________________\n",
      "dropout_47 (Dropout)            (None, 64)           0           dense_54[0][0]                   \n",
      "__________________________________________________________________________________________________\n",
      "dense_55 (Dense)                (None, 2)            130         dropout_47[0][0]                 \n",
      "==================================================================================================\n",
      "Total params: 14,102,262\n",
      "Trainable params: 5,541,762\n",
      "Non-trainable params: 8,560,500\n",
      "__________________________________________________________________________________________________\n"
     ]
    }
   ],
   "source": [
    "inputA=Input(shape=(MAX_SEQUENCE_LENGTH,))\n",
    "inputB=Input(shape=(len(values1[0]),))\n",
    "inputC=Input(shape=(len(tfidf_train[0]),))\n",
    "\n",
    "\n",
    "x = Embedding(embedding_matrix.shape[0], embedding_matrix.shape[1], weights=[embedding_matrix], input_length=MAX_SEQUENCE_LENGTH, trainable=False)(inputA)\n",
    "    # x = Bidirectional(LSTM(64, dropout=0.1, recurrent_dropout=0.2, return_sequences=True))(x)\n",
    "    # x = Bidirectional(LSTM(64, dropout=0.6, recurrent_dropout=0.2))(x)\n",
    "\n",
    "#x = Bidirectional(LSTM(64, return_sequences=True))(x)\n",
    "x=Conv1D(64,5,padding='same')(x)\n",
    "x=MaxPooling1D(pool_size = (20), strides=(10))(x)\n",
    "x=Conv1D(64,5,padding='same')(x)\n",
    "x=MaxPooling1D(pool_size = (20), strides=(10))(x)\n",
    "x=Flatten()(x)\n",
    "#x = Bidirectional(LSTM(64))(x)\n",
    "\n",
    "x = Model(inputs=inputA, outputs=x)\n",
    "\n",
    "y = Dense(1024, activation='relu')(inputC)\n",
    "y = Dropout(0.1)(y)\n",
    "y = Dense(256, activation='relu')(y)\n",
    "y = Dropout(0.1)(y)\n",
    "y = Dense(64, activation='relu')(y)\n",
    "y = Dropout(0.1)(y)\n",
    "y = Model(inputs=inputC, outputs=y)\n",
    "\n",
    "\n",
    "y1 = Dense(64, activation='relu')(inputB)\n",
    "y1 = Dropout(0.1)(y1)\n",
    "y1 = Dense(64, activation='relu')(y1)\n",
    "y1 = Dropout(0.1)(y1)\n",
    "y1 = Model(inputs=inputB, outputs=y1)\n",
    "\n",
    "combined=concatenate([x.output, y.output, y1.output])\n",
    "z=Dense(64, activation='relu')(combined)\n",
    "z = Dropout(0.1)(z)\n",
    "z=Dense(64, activation='relu')(z)\n",
    "z = Dropout(0.8)(z)\n",
    "z=Dense(2, activation='softmax')(z)\n",
    "\n",
    "model = tensorflow.keras.models.Model(inputs=[inputA, inputB, inputC], outputs=z)\n",
    "\n",
    "model.compile(loss='binary_crossentropy',\n",
    "                  optimizer='adam',\n",
    "                  metrics=['accuracy', f1],\n",
    "                  )\n",
    "\n",
    "model.summary()"
   ]
  },
  {
   "cell_type": "code",
   "execution_count": 145,
   "metadata": {},
   "outputs": [
    {
     "name": "stdout",
     "output_type": "stream",
     "text": [
      "__________________________________________________________________________________________________\n",
      "Layer (type)                    Output Shape         Param #     Connected to                     \n",
      "==================================================================================================\n",
      "input_17 (InputLayer)           (None, 250)          0                                            \n",
      "__________________________________________________________________________________________________\n",
      "embedding_8 (Embedding)         (None, 250, 300)     8560500     input_17[0][0]                   \n",
      "__________________________________________________________________________________________________\n",
      "input_18 (InputLayer)           (None, 5069)         0                                            \n",
      "__________________________________________________________________________________________________\n",
      "conv1d_7 (Conv1D)               (None, 250, 64)      96064       embedding_8[0][0]                \n",
      "__________________________________________________________________________________________________\n",
      "dense_31 (Dense)                (None, 1024)         5191680     input_18[0][0]                   \n",
      "__________________________________________________________________________________________________\n",
      "max_pooling1d_2 (MaxPooling1D)  (None, 24, 64)       0           conv1d_7[0][0]                   \n",
      "__________________________________________________________________________________________________\n",
      "dropout_26 (Dropout)            (None, 1024)         0           dense_31[0][0]                   \n",
      "__________________________________________________________________________________________________\n",
      "conv1d_8 (Conv1D)               (None, 24, 64)       20544       max_pooling1d_2[0][0]            \n",
      "__________________________________________________________________________________________________\n",
      "dense_32 (Dense)                (None, 256)          262400      dropout_26[0][0]                 \n",
      "__________________________________________________________________________________________________\n",
      "max_pooling1d_3 (MaxPooling1D)  (None, 1, 64)        0           conv1d_8[0][0]                   \n",
      "__________________________________________________________________________________________________\n",
      "dropout_27 (Dropout)            (None, 256)          0           dense_32[0][0]                   \n",
      "__________________________________________________________________________________________________\n",
      "flatten_4 (Flatten)             (None, 64)           0           max_pooling1d_3[0][0]            \n",
      "__________________________________________________________________________________________________\n",
      "dense_33 (Dense)                (None, 64)           16448       dropout_27[0][0]                 \n",
      "__________________________________________________________________________________________________\n",
      "flatten_5 (Flatten)             (None, 64)           0           flatten_4[0][0]                  \n",
      "__________________________________________________________________________________________________\n",
      "dropout_28 (Dropout)            (None, 64)           0           dense_33[0][0]                   \n",
      "__________________________________________________________________________________________________\n",
      "concatenate_6 (Concatenate)     (None, 128)          0           flatten_5[0][0]                  \n",
      "                                                                 dropout_28[0][0]                 \n",
      "__________________________________________________________________________________________________\n",
      "dense_34 (Dense)                (None, 64)           8256        concatenate_6[0][0]              \n",
      "__________________________________________________________________________________________________\n",
      "dropout_29 (Dropout)            (None, 64)           0           dense_34[0][0]                   \n",
      "__________________________________________________________________________________________________\n",
      "dense_35 (Dense)                (None, 64)           4160        dropout_29[0][0]                 \n",
      "__________________________________________________________________________________________________\n",
      "dropout_30 (Dropout)            (None, 64)           0           dense_35[0][0]                   \n",
      "__________________________________________________________________________________________________\n",
      "dense_36 (Dense)                (None, 2)            130         dropout_30[0][0]                 \n",
      "==================================================================================================\n",
      "Total params: 14,160,182\n",
      "Trainable params: 5,599,682\n",
      "Non-trainable params: 8,560,500\n",
      "__________________________________________________________________________________________________\n"
     ]
    }
   ],
   "source": [
    "inputA=Input(shape=(MAX_SEQUENCE_LENGTH,))\n",
    "inputB=Input(shape=(len(values1[0]),))\n",
    "\n",
    "x = Embedding(embedding_matrix.shape[0], embedding_matrix.shape[1], weights=[embedding_matrix], input_length=MAX_SEQUENCE_LENGTH, trainable=False)(inputA)\n",
    "    # x = Bidirectional(LSTM(64, dropout=0.1, recurrent_dropout=0.2, return_sequences=True))(x)\n",
    "    # x = Bidirectional(LSTM(64, dropout=0.6, recurrent_dropout=0.2))(x)\n",
    "\n",
    "#x = Bidirectional(LSTM(64, return_sequences=True))(x)\n",
    "x=Conv1D(64,5,padding='same')(x)\n",
    "x=MaxPooling1D(pool_size = (20), strides=(10))(x)\n",
    "x=Conv1D(64,5,padding='same')(x)\n",
    "x=MaxPooling1D(pool_size = (20), strides=(10))(x)\n",
    "x=Flatten()(x)\n",
    "x=Flatten()(x)\n",
    "#x = Bidirectional(LSTM(64))(x)\n",
    "\n",
    "x = Model(inputs=inputA, outputs=x)\n",
    "\n",
    "y = Dense(1024, activation='relu')(inputB)\n",
    "y = Dropout(0.1)(y)\n",
    "y = Dense(256, activation='relu')(y)\n",
    "y = Dropout(0.1)(y)\n",
    "y = Dense(64, activation='relu')(y)\n",
    "y = Dropout(0.1)(y)\n",
    "y = Model(inputs=inputB, outputs=y)\n",
    "\n",
    "combined=concatenate([x.output, y.output])\n",
    "z=Dense(64, activation='relu')(combined)\n",
    "z = Dropout(0.1)(z)\n",
    "z=Dense(64, activation='relu')(z)\n",
    "z = Dropout(0.8)(z)\n",
    "z=Dense(2, activation='softmax')(z)\n",
    "\n",
    "model = tensorflow.keras.models.Model(inputs=[inputA, inputB], outputs=z)\n",
    "\n",
    "model.compile(loss='binary_crossentropy',\n",
    "                  optimizer='adam',\n",
    "                  metrics=['accuracy', f1],\n",
    "                  )\n",
    "\n",
    "model.summary()"
   ]
  },
  {
   "cell_type": "code",
   "execution_count": 19,
   "metadata": {},
   "outputs": [],
   "source": [
    "def create_model(Dy : list = [0.1, 0.1, 0.1], Dz : list = [0.1, 0.1]):\n",
    "    inputA=Input(shape=(MAX_SEQUENCE_LENGTH,))\n",
    "    inputB=Input(shape=(len(values1[0]),))\n",
    "\n",
    "    x = Embedding(embedding_matrix.shape[0], embedding_matrix.shape[1], weights=[embedding_matrix], input_length=MAX_SEQUENCE_LENGTH, trainable=False)(inputA)\n",
    "    # x = Bidirectional(LSTM(64, dropout=0.1, recurrent_dropout=0.2, return_sequences=True))(x)\n",
    "    # x = Bidirectional(LSTM(64, dropout=0.6, recurrent_dropout=0.2))(x)\n",
    "\n",
    "    x = Bidirectional(LSTM(64, return_sequences=True))(x)\n",
    "    x = Bidirectional(LSTM(64))(x)\n",
    "\n",
    "    x = Model(inputs=inputA, outputs=x)\n",
    "\n",
    "    y = Dense(1024, activation='relu')(inputB)\n",
    "    y = Dropout(Dy[0])(y)\n",
    "    y = Dense(256, activation='relu')(y)\n",
    "    y = Dropout(Dy[1])(y)\n",
    "    y = Dense(64, activation='relu')(y)\n",
    "    y = Dropout(Dy[2])(y)\n",
    "    y = Model(inputs=inputB, outputs=y)\n",
    "\n",
    "    combined=concatenate([x.output, y.output])\n",
    "    z=Dense(64, activation='relu')(combined)\n",
    "    z = Dropout(Dz[0])(z)\n",
    "    z=Dense(64, activation='relu')(z)\n",
    "    z = Dropout(Dz[1])(z)\n",
    "    z=Dense(2, activation='softmax')(z)\n",
    "\n",
    "    model = tensorflow.keras.models.Model(inputs=[inputA, inputB], outputs=z)\n",
    "\n",
    "    model.compile(loss='binary_crossentropy',\n",
    "                  optimizer='adam',\n",
    "                  metrics=['accuracy', f1],\n",
    "                  )\n",
    "\n",
    "    model.summary()\n",
    "    return model"
   ]
  },
  {
   "cell_type": "code",
   "execution_count": 20,
   "metadata": {},
   "outputs": [],
   "source": [
    "def create_model2(Dy = 0.0, Dz = 0.0):\n",
    "    inputA=Input(shape=(MAX_SEQUENCE_LENGTH,))\n",
    "    inputB=Input(shape=(len(values1[0]),))\n",
    "\n",
    "    x = Embedding(embedding_matrix.shape[0], embedding_matrix.shape[1], weights=[embedding_matrix], input_length=MAX_SEQUENCE_LENGTH, trainable=False)(inputA)\n",
    "    # x = Bidirectional(LSTM(64, dropout=0.1, recurrent_dropout=0.2, return_sequences=True))(x)\n",
    "    # x = Bidirectional(LSTM(64, dropout=0.6, recurrent_dropout=0.2))(x)\n",
    "\n",
    "    x = Bidirectional(LSTM(64, return_sequences=True))(x)\n",
    "    x = Bidirectional(LSTM(64))(x)\n",
    "\n",
    "    x = Model(inputs=inputA, outputs=x)\n",
    "\n",
    "    y = Dense(1024, activation='relu')(inputB)\n",
    "#     y = Dropout(Dy[0])(y)\n",
    "    y = Dense(256, activation='relu')(y)\n",
    "#     y = Dropout(Dy[1])(y)\n",
    "    y = Dense(64, activation='relu')(y)\n",
    "    y = Dropout(Dy)(y)\n",
    "    y = Model(inputs=inputB, outputs=y)\n",
    "\n",
    "    combined=concatenate([x.output, y.output])\n",
    "    z=Dense(64, activation='relu')(combined)\n",
    "#     z = Dropout(Dz[0])(z)\n",
    "    z=Dense(64, activation='relu')(z)\n",
    "    z = Dropout(Dz)(z)\n",
    "    z=Dense(2, activation='softmax')(z)\n",
    "\n",
    "    model = tensorflow.keras.models.Model(inputs=[inputA, inputB], outputs=z)\n",
    "\n",
    "    model.compile(loss='binary_crossentropy',\n",
    "                  optimizer='adam',\n",
    "                  metrics=['accuracy', f1],\n",
    "                  )\n",
    "\n",
    "    model.summary()\n",
    "    return model"
   ]
  },
  {
   "cell_type": "code",
   "execution_count": 43,
   "metadata": {},
   "outputs": [
    {
     "data": {
      "text/plain": [
       "array([0.1, 0.2, 0.3, 0.4, 0.5, 0.6, 0.7, 0.8])"
      ]
     },
     "execution_count": 43,
     "metadata": {},
     "output_type": "execute_result"
    }
   ],
   "source": [
    "np.arange(0.1, 0.9, 0.1)"
   ]
  },
  {
   "cell_type": "code",
   "execution_count": 21,
   "metadata": {},
   "outputs": [
    {
     "name": "stdout",
     "output_type": "stream",
     "text": [
      "{'Dy': [0.1, 0.5], 'Dz': [0.1, 0.5]}\n"
     ]
    }
   ],
   "source": [
    "from sklearn.model_selection import GridSearchCV\n",
    "from tensorflow.keras.wrappers.scikit_learn import KerasClassifier\n",
    "\n",
    "model = KerasClassifier(build_fn=create_model2)\n",
    "\n",
    "dropout = np.arange(0.1, 0.9, 0.4).tolist()\n",
    "param_grid = dict(Dy=dropout, Dz=dropout)\n",
    "print(param_grid)\n",
    "grid = GridSearchCV(estimator=model, param_grid=param_grid, n_jobs=4)"
   ]
  },
  {
   "cell_type": "code",
   "execution_count": 23,
   "metadata": {},
   "outputs": [
    {
     "name": "stderr",
     "output_type": "stream",
     "text": [
      "/home/ors/anaconda3/envs/py36/lib/python3.6/site-packages/sklearn/externals/joblib/externals/loky/backend/utils.py:55: UserWarning: Failed to kill subprocesses on this platform. Pleaseinstall psutil: https://github.com/giampaolo/psutil\n",
      "  warnings.warn(\"Failed to kill subprocesses on this platform. Please\"\n"
     ]
    },
    {
     "ename": "ValueError",
     "evalue": "Error when checking model input: the list of Numpy arrays that you are passing to your model is not the size the model expected. Expected to see 2 array(s), but instead got the following list of 1 arrays: [memmap([[    0,     0,     0, ...,    47,  2078,  1095],\n        [    0,     0,     0, ...,    12, 15878,   456],\n        [    0,     0,     0, ...,   105,     1,   526],\n        ...,\n        [    0,...",
     "output_type": "error",
     "traceback": [
      "\u001b[0;31m---------------------------------------------------------------------------\u001b[0m",
      "\u001b[0;31m_RemoteTraceback\u001b[0m                          Traceback (most recent call last)",
      "\u001b[0;31m_RemoteTraceback\u001b[0m: \n\"\"\"\nTraceback (most recent call last):\n  File \"/home/ors/anaconda3/envs/py36/lib/python3.6/site-packages/sklearn/externals/joblib/externals/loky/process_executor.py\", line 418, in _process_worker\n    r = call_item()\n  File \"/home/ors/anaconda3/envs/py36/lib/python3.6/site-packages/sklearn/externals/joblib/externals/loky/process_executor.py\", line 272, in __call__\n    return self.fn(*self.args, **self.kwargs)\n  File \"/home/ors/anaconda3/envs/py36/lib/python3.6/site-packages/sklearn/externals/joblib/_parallel_backends.py\", line 567, in __call__\n    return self.func(*args, **kwargs)\n  File \"/home/ors/anaconda3/envs/py36/lib/python3.6/site-packages/sklearn/externals/joblib/parallel.py\", line 225, in __call__\n    for func, args, kwargs in self.items]\n  File \"/home/ors/anaconda3/envs/py36/lib/python3.6/site-packages/sklearn/externals/joblib/parallel.py\", line 225, in <listcomp>\n    for func, args, kwargs in self.items]\n  File \"/home/ors/anaconda3/envs/py36/lib/python3.6/site-packages/sklearn/model_selection/_validation.py\", line 528, in _fit_and_score\n    estimator.fit(X_train, y_train, **fit_params)\n  File \"/home/ors/anaconda3/envs/py36/lib/python3.6/site-packages/tensorflow/python/keras/wrappers/scikit_learn.py\", line 224, in fit\n    return super(KerasClassifier, self).fit(x, y, **kwargs)\n  File \"/home/ors/anaconda3/envs/py36/lib/python3.6/site-packages/tensorflow/python/keras/wrappers/scikit_learn.py\", line 167, in fit\n    history = self.model.fit(x, y, **fit_args)\n  File \"/home/ors/anaconda3/envs/py36/lib/python3.6/site-packages/tensorflow/python/keras/engine/training.py\", line 776, in fit\n    shuffle=shuffle)\n  File \"/home/ors/anaconda3/envs/py36/lib/python3.6/site-packages/tensorflow/python/keras/engine/training.py\", line 2382, in _standardize_user_data\n    exception_prefix='input')\n  File \"/home/ors/anaconda3/envs/py36/lib/python3.6/site-packages/tensorflow/python/keras/engine/training_utils.py\", line 323, in standardize_input_data\n    str(len(data)) + ' arrays: ' + str(data)[:200] + '...')\nValueError: Error when checking model input: the list of Numpy arrays that you are passing to your model is not the size the model expected. Expected to see 2 array(s), but instead got the following list of 1 arrays: [memmap([[    0,     0,     0, ...,    47,  2078,  1095],\n        [    0,     0,     0, ...,    12, 15878,   456],\n        [    0,     0,     0, ...,   105,     1,   526],\n        ...,\n        [    0,...\n\"\"\"",
      "\nThe above exception was the direct cause of the following exception:\n",
      "\u001b[0;31mValueError\u001b[0m                                Traceback (most recent call last)",
      "\u001b[0;32m<ipython-input-23-843b39d91245>\u001b[0m in \u001b[0;36m<module>\u001b[0;34m\u001b[0m\n\u001b[1;32m      2\u001b[0m           \u001b[0mcategories_train\u001b[0m\u001b[0;34m,\u001b[0m \u001b[0mepochs\u001b[0m\u001b[0;34m=\u001b[0m\u001b[0;36m1\u001b[0m\u001b[0;34m,\u001b[0m\u001b[0;34m\u001b[0m\u001b[0;34m\u001b[0m\u001b[0m\n\u001b[1;32m      3\u001b[0m           \u001b[0mverbose\u001b[0m\u001b[0;34m=\u001b[0m\u001b[0;36m0\u001b[0m\u001b[0;34m,\u001b[0m\u001b[0;34m\u001b[0m\u001b[0;34m\u001b[0m\u001b[0m\n\u001b[0;32m----> 4\u001b[0;31m           \u001b[0mvalidation_data\u001b[0m\u001b[0;34m=\u001b[0m\u001b[0;34m(\u001b[0m\u001b[0;34m[\u001b[0m\u001b[0mtexts_test\u001b[0m\u001b[0;34m,\u001b[0m \u001b[0mnp\u001b[0m\u001b[0;34m.\u001b[0m\u001b[0marray\u001b[0m\u001b[0;34m(\u001b[0m\u001b[0mvalues2\u001b[0m\u001b[0;34m)\u001b[0m\u001b[0;34m]\u001b[0m\u001b[0;34m,\u001b[0m \u001b[0mcategories_test\u001b[0m\u001b[0;34m)\u001b[0m\u001b[0;34m\u001b[0m\u001b[0;34m\u001b[0m\u001b[0m\n\u001b[0m\u001b[1;32m      5\u001b[0m          )\n\u001b[1;32m      6\u001b[0m \u001b[0;31m# summarize results\u001b[0m\u001b[0;34m\u001b[0m\u001b[0;34m\u001b[0m\u001b[0;34m\u001b[0m\u001b[0m\n",
      "\u001b[0;32m~/anaconda3/envs/py36/lib/python3.6/site-packages/sklearn/model_selection/_search.py\u001b[0m in \u001b[0;36mfit\u001b[0;34m(self, X, y, groups, **fit_params)\u001b[0m\n\u001b[1;32m    720\u001b[0m                 \u001b[0;32mreturn\u001b[0m \u001b[0mresults_container\u001b[0m\u001b[0;34m[\u001b[0m\u001b[0;36m0\u001b[0m\u001b[0;34m]\u001b[0m\u001b[0;34m\u001b[0m\u001b[0;34m\u001b[0m\u001b[0m\n\u001b[1;32m    721\u001b[0m \u001b[0;34m\u001b[0m\u001b[0m\n\u001b[0;32m--> 722\u001b[0;31m             \u001b[0mself\u001b[0m\u001b[0;34m.\u001b[0m\u001b[0m_run_search\u001b[0m\u001b[0;34m(\u001b[0m\u001b[0mevaluate_candidates\u001b[0m\u001b[0;34m)\u001b[0m\u001b[0;34m\u001b[0m\u001b[0;34m\u001b[0m\u001b[0m\n\u001b[0m\u001b[1;32m    723\u001b[0m \u001b[0;34m\u001b[0m\u001b[0m\n\u001b[1;32m    724\u001b[0m         \u001b[0mresults\u001b[0m \u001b[0;34m=\u001b[0m \u001b[0mresults_container\u001b[0m\u001b[0;34m[\u001b[0m\u001b[0;36m0\u001b[0m\u001b[0;34m]\u001b[0m\u001b[0;34m\u001b[0m\u001b[0;34m\u001b[0m\u001b[0m\n",
      "\u001b[0;32m~/anaconda3/envs/py36/lib/python3.6/site-packages/sklearn/model_selection/_search.py\u001b[0m in \u001b[0;36m_run_search\u001b[0;34m(self, evaluate_candidates)\u001b[0m\n\u001b[1;32m   1189\u001b[0m     \u001b[0;32mdef\u001b[0m \u001b[0m_run_search\u001b[0m\u001b[0;34m(\u001b[0m\u001b[0mself\u001b[0m\u001b[0;34m,\u001b[0m \u001b[0mevaluate_candidates\u001b[0m\u001b[0;34m)\u001b[0m\u001b[0;34m:\u001b[0m\u001b[0;34m\u001b[0m\u001b[0;34m\u001b[0m\u001b[0m\n\u001b[1;32m   1190\u001b[0m         \u001b[0;34m\"\"\"Search all candidates in param_grid\"\"\"\u001b[0m\u001b[0;34m\u001b[0m\u001b[0;34m\u001b[0m\u001b[0m\n\u001b[0;32m-> 1191\u001b[0;31m         \u001b[0mevaluate_candidates\u001b[0m\u001b[0;34m(\u001b[0m\u001b[0mParameterGrid\u001b[0m\u001b[0;34m(\u001b[0m\u001b[0mself\u001b[0m\u001b[0;34m.\u001b[0m\u001b[0mparam_grid\u001b[0m\u001b[0;34m)\u001b[0m\u001b[0;34m)\u001b[0m\u001b[0;34m\u001b[0m\u001b[0;34m\u001b[0m\u001b[0m\n\u001b[0m\u001b[1;32m   1192\u001b[0m \u001b[0;34m\u001b[0m\u001b[0m\n\u001b[1;32m   1193\u001b[0m \u001b[0;34m\u001b[0m\u001b[0m\n",
      "\u001b[0;32m~/anaconda3/envs/py36/lib/python3.6/site-packages/sklearn/model_selection/_search.py\u001b[0m in \u001b[0;36mevaluate_candidates\u001b[0;34m(candidate_params)\u001b[0m\n\u001b[1;32m    709\u001b[0m                                \u001b[0;32mfor\u001b[0m \u001b[0mparameters\u001b[0m\u001b[0;34m,\u001b[0m \u001b[0;34m(\u001b[0m\u001b[0mtrain\u001b[0m\u001b[0;34m,\u001b[0m \u001b[0mtest\u001b[0m\u001b[0;34m)\u001b[0m\u001b[0;34m\u001b[0m\u001b[0;34m\u001b[0m\u001b[0m\n\u001b[1;32m    710\u001b[0m                                in product(candidate_params,\n\u001b[0;32m--> 711\u001b[0;31m                                           cv.split(X, y, groups)))\n\u001b[0m\u001b[1;32m    712\u001b[0m \u001b[0;34m\u001b[0m\u001b[0m\n\u001b[1;32m    713\u001b[0m                 \u001b[0mall_candidate_params\u001b[0m\u001b[0;34m.\u001b[0m\u001b[0mextend\u001b[0m\u001b[0;34m(\u001b[0m\u001b[0mcandidate_params\u001b[0m\u001b[0;34m)\u001b[0m\u001b[0;34m\u001b[0m\u001b[0;34m\u001b[0m\u001b[0m\n",
      "\u001b[0;32m~/anaconda3/envs/py36/lib/python3.6/site-packages/sklearn/externals/joblib/parallel.py\u001b[0m in \u001b[0;36m__call__\u001b[0;34m(self, iterable)\u001b[0m\n\u001b[1;32m    928\u001b[0m \u001b[0;34m\u001b[0m\u001b[0m\n\u001b[1;32m    929\u001b[0m             \u001b[0;32mwith\u001b[0m \u001b[0mself\u001b[0m\u001b[0;34m.\u001b[0m\u001b[0m_backend\u001b[0m\u001b[0;34m.\u001b[0m\u001b[0mretrieval_context\u001b[0m\u001b[0;34m(\u001b[0m\u001b[0;34m)\u001b[0m\u001b[0;34m:\u001b[0m\u001b[0;34m\u001b[0m\u001b[0;34m\u001b[0m\u001b[0m\n\u001b[0;32m--> 930\u001b[0;31m                 \u001b[0mself\u001b[0m\u001b[0;34m.\u001b[0m\u001b[0mretrieve\u001b[0m\u001b[0;34m(\u001b[0m\u001b[0;34m)\u001b[0m\u001b[0;34m\u001b[0m\u001b[0;34m\u001b[0m\u001b[0m\n\u001b[0m\u001b[1;32m    931\u001b[0m             \u001b[0;31m# Make sure that we get a last message telling us we are done\u001b[0m\u001b[0;34m\u001b[0m\u001b[0;34m\u001b[0m\u001b[0;34m\u001b[0m\u001b[0m\n\u001b[1;32m    932\u001b[0m             \u001b[0melapsed_time\u001b[0m \u001b[0;34m=\u001b[0m \u001b[0mtime\u001b[0m\u001b[0;34m.\u001b[0m\u001b[0mtime\u001b[0m\u001b[0;34m(\u001b[0m\u001b[0;34m)\u001b[0m \u001b[0;34m-\u001b[0m \u001b[0mself\u001b[0m\u001b[0;34m.\u001b[0m\u001b[0m_start_time\u001b[0m\u001b[0;34m\u001b[0m\u001b[0;34m\u001b[0m\u001b[0m\n",
      "\u001b[0;32m~/anaconda3/envs/py36/lib/python3.6/site-packages/sklearn/externals/joblib/parallel.py\u001b[0m in \u001b[0;36mretrieve\u001b[0;34m(self)\u001b[0m\n\u001b[1;32m    831\u001b[0m             \u001b[0;32mtry\u001b[0m\u001b[0;34m:\u001b[0m\u001b[0;34m\u001b[0m\u001b[0;34m\u001b[0m\u001b[0m\n\u001b[1;32m    832\u001b[0m                 \u001b[0;32mif\u001b[0m \u001b[0mgetattr\u001b[0m\u001b[0;34m(\u001b[0m\u001b[0mself\u001b[0m\u001b[0;34m.\u001b[0m\u001b[0m_backend\u001b[0m\u001b[0;34m,\u001b[0m \u001b[0;34m'supports_timeout'\u001b[0m\u001b[0;34m,\u001b[0m \u001b[0;32mFalse\u001b[0m\u001b[0;34m)\u001b[0m\u001b[0;34m:\u001b[0m\u001b[0;34m\u001b[0m\u001b[0;34m\u001b[0m\u001b[0m\n\u001b[0;32m--> 833\u001b[0;31m                     \u001b[0mself\u001b[0m\u001b[0;34m.\u001b[0m\u001b[0m_output\u001b[0m\u001b[0;34m.\u001b[0m\u001b[0mextend\u001b[0m\u001b[0;34m(\u001b[0m\u001b[0mjob\u001b[0m\u001b[0;34m.\u001b[0m\u001b[0mget\u001b[0m\u001b[0;34m(\u001b[0m\u001b[0mtimeout\u001b[0m\u001b[0;34m=\u001b[0m\u001b[0mself\u001b[0m\u001b[0;34m.\u001b[0m\u001b[0mtimeout\u001b[0m\u001b[0;34m)\u001b[0m\u001b[0;34m)\u001b[0m\u001b[0;34m\u001b[0m\u001b[0;34m\u001b[0m\u001b[0m\n\u001b[0m\u001b[1;32m    834\u001b[0m                 \u001b[0;32melse\u001b[0m\u001b[0;34m:\u001b[0m\u001b[0;34m\u001b[0m\u001b[0;34m\u001b[0m\u001b[0m\n\u001b[1;32m    835\u001b[0m                     \u001b[0mself\u001b[0m\u001b[0;34m.\u001b[0m\u001b[0m_output\u001b[0m\u001b[0;34m.\u001b[0m\u001b[0mextend\u001b[0m\u001b[0;34m(\u001b[0m\u001b[0mjob\u001b[0m\u001b[0;34m.\u001b[0m\u001b[0mget\u001b[0m\u001b[0;34m(\u001b[0m\u001b[0;34m)\u001b[0m\u001b[0;34m)\u001b[0m\u001b[0;34m\u001b[0m\u001b[0;34m\u001b[0m\u001b[0m\n",
      "\u001b[0;32m~/anaconda3/envs/py36/lib/python3.6/site-packages/sklearn/externals/joblib/_parallel_backends.py\u001b[0m in \u001b[0;36mwrap_future_result\u001b[0;34m(future, timeout)\u001b[0m\n\u001b[1;32m    519\u001b[0m         AsyncResults.get from multiprocessing.\"\"\"\n\u001b[1;32m    520\u001b[0m         \u001b[0;32mtry\u001b[0m\u001b[0;34m:\u001b[0m\u001b[0;34m\u001b[0m\u001b[0;34m\u001b[0m\u001b[0m\n\u001b[0;32m--> 521\u001b[0;31m             \u001b[0;32mreturn\u001b[0m \u001b[0mfuture\u001b[0m\u001b[0;34m.\u001b[0m\u001b[0mresult\u001b[0m\u001b[0;34m(\u001b[0m\u001b[0mtimeout\u001b[0m\u001b[0;34m=\u001b[0m\u001b[0mtimeout\u001b[0m\u001b[0;34m)\u001b[0m\u001b[0;34m\u001b[0m\u001b[0;34m\u001b[0m\u001b[0m\n\u001b[0m\u001b[1;32m    522\u001b[0m         \u001b[0;32mexcept\u001b[0m \u001b[0mLokyTimeoutError\u001b[0m\u001b[0;34m:\u001b[0m\u001b[0;34m\u001b[0m\u001b[0;34m\u001b[0m\u001b[0m\n\u001b[1;32m    523\u001b[0m             \u001b[0;32mraise\u001b[0m \u001b[0mTimeoutError\u001b[0m\u001b[0;34m(\u001b[0m\u001b[0;34m)\u001b[0m\u001b[0;34m\u001b[0m\u001b[0;34m\u001b[0m\u001b[0m\n",
      "\u001b[0;32m~/anaconda3/envs/py36/lib/python3.6/concurrent/futures/_base.py\u001b[0m in \u001b[0;36mresult\u001b[0;34m(self, timeout)\u001b[0m\n\u001b[1;32m    430\u001b[0m                 \u001b[0;32mraise\u001b[0m \u001b[0mCancelledError\u001b[0m\u001b[0;34m(\u001b[0m\u001b[0;34m)\u001b[0m\u001b[0;34m\u001b[0m\u001b[0;34m\u001b[0m\u001b[0m\n\u001b[1;32m    431\u001b[0m             \u001b[0;32melif\u001b[0m \u001b[0mself\u001b[0m\u001b[0;34m.\u001b[0m\u001b[0m_state\u001b[0m \u001b[0;34m==\u001b[0m \u001b[0mFINISHED\u001b[0m\u001b[0;34m:\u001b[0m\u001b[0;34m\u001b[0m\u001b[0;34m\u001b[0m\u001b[0m\n\u001b[0;32m--> 432\u001b[0;31m                 \u001b[0;32mreturn\u001b[0m \u001b[0mself\u001b[0m\u001b[0;34m.\u001b[0m\u001b[0m__get_result\u001b[0m\u001b[0;34m(\u001b[0m\u001b[0;34m)\u001b[0m\u001b[0;34m\u001b[0m\u001b[0;34m\u001b[0m\u001b[0m\n\u001b[0m\u001b[1;32m    433\u001b[0m             \u001b[0;32melse\u001b[0m\u001b[0;34m:\u001b[0m\u001b[0;34m\u001b[0m\u001b[0;34m\u001b[0m\u001b[0m\n\u001b[1;32m    434\u001b[0m                 \u001b[0;32mraise\u001b[0m \u001b[0mTimeoutError\u001b[0m\u001b[0;34m(\u001b[0m\u001b[0;34m)\u001b[0m\u001b[0;34m\u001b[0m\u001b[0;34m\u001b[0m\u001b[0m\n",
      "\u001b[0;32m~/anaconda3/envs/py36/lib/python3.6/concurrent/futures/_base.py\u001b[0m in \u001b[0;36m__get_result\u001b[0;34m(self)\u001b[0m\n\u001b[1;32m    382\u001b[0m     \u001b[0;32mdef\u001b[0m \u001b[0m__get_result\u001b[0m\u001b[0;34m(\u001b[0m\u001b[0mself\u001b[0m\u001b[0;34m)\u001b[0m\u001b[0;34m:\u001b[0m\u001b[0;34m\u001b[0m\u001b[0;34m\u001b[0m\u001b[0m\n\u001b[1;32m    383\u001b[0m         \u001b[0;32mif\u001b[0m \u001b[0mself\u001b[0m\u001b[0;34m.\u001b[0m\u001b[0m_exception\u001b[0m\u001b[0;34m:\u001b[0m\u001b[0;34m\u001b[0m\u001b[0;34m\u001b[0m\u001b[0m\n\u001b[0;32m--> 384\u001b[0;31m             \u001b[0;32mraise\u001b[0m \u001b[0mself\u001b[0m\u001b[0;34m.\u001b[0m\u001b[0m_exception\u001b[0m\u001b[0;34m\u001b[0m\u001b[0;34m\u001b[0m\u001b[0m\n\u001b[0m\u001b[1;32m    385\u001b[0m         \u001b[0;32melse\u001b[0m\u001b[0;34m:\u001b[0m\u001b[0;34m\u001b[0m\u001b[0;34m\u001b[0m\u001b[0m\n\u001b[1;32m    386\u001b[0m             \u001b[0;32mreturn\u001b[0m \u001b[0mself\u001b[0m\u001b[0;34m.\u001b[0m\u001b[0m_result\u001b[0m\u001b[0;34m\u001b[0m\u001b[0;34m\u001b[0m\u001b[0m\n",
      "\u001b[0;31mValueError\u001b[0m: Error when checking model input: the list of Numpy arrays that you are passing to your model is not the size the model expected. Expected to see 2 array(s), but instead got the following list of 1 arrays: [memmap([[    0,     0,     0, ...,    47,  2078,  1095],\n        [    0,     0,     0, ...,    12, 15878,   456],\n        [    0,     0,     0, ...,   105,     1,   526],\n        ...,\n        [    0,..."
     ]
    }
   ],
   "source": [
    "grid_result = grid.fit(texts_train, np.array(values1), \n",
    "          categories_train, epochs=1, \n",
    "          verbose=0, \n",
    "          validation_data=([texts_test, np.array(values2)], categories_test)\n",
    "         )\n",
    "# summarize results\n",
    "print(\"Best: %f using %s\" % (grid_result.best_score_, grid_result.best_params_))\n",
    "means = grid_result.cv_results_['mean_test_score']\n",
    "stds = grid_result.cv_results_['std_test_score']\n",
    "params = grid_result.cv_results_['params']\n",
    "for mean, stdev, param in zip(means, stds, params):\n",
    "    print(\"%f (%f) with: %r\" % (mean, stdev, param))"
   ]
  },
  {
   "cell_type": "code",
   "execution_count": 26,
   "metadata": {},
   "outputs": [
    {
     "name": "stdout",
     "output_type": "stream",
     "text": [
      "__________________________________________________________________________________________________\n",
      "Layer (type)                    Output Shape         Param #     Connected to                     \n",
      "==================================================================================================\n",
      "input_6 (InputLayer)            (None, 5069)         0                                            \n",
      "__________________________________________________________________________________________________\n",
      "dense_7 (Dense)                 (None, 1024)         5191680     input_6[0][0]                    \n",
      "__________________________________________________________________________________________________\n",
      "dropout_5 (Dropout)             (None, 1024)         0           dense_7[0][0]                    \n",
      "__________________________________________________________________________________________________\n",
      "input_5 (InputLayer)            (None, 250)          0                                            \n",
      "__________________________________________________________________________________________________\n",
      "dense_8 (Dense)                 (None, 256)          262400      dropout_5[0][0]                  \n",
      "__________________________________________________________________________________________________\n",
      "embedding_2 (Embedding)         (None, 250, 300)     8560500     input_5[0][0]                    \n",
      "__________________________________________________________________________________________________\n",
      "dropout_6 (Dropout)             (None, 256)          0           dense_8[0][0]                    \n",
      "__________________________________________________________________________________________________\n",
      "bidirectional_4 (Bidirectional) (None, 250, 128)     186880      embedding_2[0][0]                \n",
      "__________________________________________________________________________________________________\n",
      "dense_9 (Dense)                 (None, 64)           16448       dropout_6[0][0]                  \n",
      "__________________________________________________________________________________________________\n",
      "bidirectional_5 (Bidirectional) (None, 128)          98816       bidirectional_4[0][0]            \n",
      "__________________________________________________________________________________________________\n",
      "dropout_7 (Dropout)             (None, 64)           0           dense_9[0][0]                    \n",
      "__________________________________________________________________________________________________\n",
      "concatenate_1 (Concatenate)     (None, 192)          0           bidirectional_5[0][0]            \n",
      "                                                                 dropout_7[0][0]                  \n",
      "__________________________________________________________________________________________________\n",
      "dense_10 (Dense)                (None, 64)           12352       concatenate_1[0][0]              \n",
      "__________________________________________________________________________________________________\n",
      "dropout_8 (Dropout)             (None, 64)           0           dense_10[0][0]                   \n",
      "__________________________________________________________________________________________________\n",
      "dense_11 (Dense)                (None, 64)           4160        dropout_8[0][0]                  \n",
      "__________________________________________________________________________________________________\n",
      "dropout_9 (Dropout)             (None, 64)           0           dense_11[0][0]                   \n",
      "__________________________________________________________________________________________________\n",
      "dense_12 (Dense)                (None, 2)            130         dropout_9[0][0]                  \n",
      "==================================================================================================\n",
      "Total params: 14,333,366\n",
      "Trainable params: 5,772,866\n",
      "Non-trainable params: 8,560,500\n",
      "__________________________________________________________________________________________________\n"
     ]
    }
   ],
   "source": [
    "model = create_model([0.2, 0.5, 0.8], [0.2, 0.8])"
   ]
  },
  {
   "cell_type": "code",
   "execution_count": 184,
   "metadata": {},
   "outputs": [
    {
     "name": "stdout",
     "output_type": "stream",
     "text": [
      "Train on 21599 samples, validate on 2400 samples\n",
      "21599/21599 [==============================] - 14s 654us/sample - loss: 0.4845 - acc: 0.7841 - f1: 0.7841 - val_loss: 0.3838 - val_acc: 0.8413 - val_f1: 0.8412\n"
     ]
    },
    {
     "data": {
      "text/plain": [
       "<tensorflow.python.keras.callbacks.History at 0x7fd5ffe8ec88>"
      ]
     },
     "execution_count": 184,
     "metadata": {},
     "output_type": "execute_result"
    }
   ],
   "source": [
    "model.fit([texts_train, np.array(values1), np.array(tfidf_train)], \n",
    "          categories_train, epochs=1, \n",
    "          verbose=1, \n",
    "          validation_data=([texts_test, np.array(values2), np.array(tfidf_test)], categories_test)\n",
    "         )\n",
    "#           callbacks=callbacks)"
   ]
  },
  {
   "cell_type": "code",
   "execution_count": 185,
   "metadata": {
    "scrolled": true
   },
   "outputs": [
    {
     "name": "stdout",
     "output_type": "stream",
     "text": [
      "F1-score: 82.913773\n"
     ]
    }
   ],
   "source": [
    "predict = np.argmax(model.predict([np.array(texts_test),np.array(values2), np.array(tfidf_test)]), axis=1)\n",
    "answer = np.argmax(categories_test, axis=1)\n",
    "print('F1-score: %f' % (f1_score(predict, answer, average=\"macro\")*100))"
   ]
  },
  {
   "cell_type": "code",
   "execution_count": 96,
   "metadata": {},
   "outputs": [
    {
     "data": {
      "text/plain": [
       "'SBW-vectors-300-min5.txt'"
      ]
     },
     "execution_count": 96,
     "metadata": {},
     "output_type": "execute_result"
    }
   ],
   "source": [
    "model"
   ]
  },
  {
   "cell_type": "code",
   "execution_count": 187,
   "metadata": {
    "scrolled": true
   },
   "outputs": [
    {
     "name": "stdout",
     "output_type": "stream",
     "text": [
      "[1 0 1 ... 0 1 0]\n"
     ]
    }
   ],
   "source": [
    "predict = np.argmax(model.predict([np.array(texts_ev),np.array(values3),np.array(tfidf_ev)]), axis=1)\n",
    "print(predict)\n",
    "with open('prediction_cnn1.txt', 'w', encoding='utf-8') as file:\n",
    "    for p in predict:\n",
    "        print(str(p),file=file)"
   ]
  },
  {
   "cell_type": "code",
   "execution_count": 91,
   "metadata": {},
   "outputs": [],
   "source": [
    "from tensorflow.keras.models import load_model\n",
    "model.save('lstm.h5')\n"
   ]
  },
  {
   "cell_type": "code",
   "execution_count": null,
   "metadata": {},
   "outputs": [],
   "source": [
    "from tensorflow.keras.models import load_model\n",
    "model = load_model('lstm.h5')"
   ]
  },
  {
   "cell_type": "code",
   "execution_count": null,
   "metadata": {},
   "outputs": [],
   "source": []
  }
 ],
 "metadata": {
  "kernelspec": {
   "display_name": "Python 3",
   "language": "python",
   "name": "python3"
  },
  "language_info": {
   "codemirror_mode": {
    "name": "ipython",
    "version": 3
   },
   "file_extension": ".py",
   "mimetype": "text/x-python",
   "name": "python",
   "nbconvert_exporter": "python",
   "pygments_lexer": "ipython3",
   "version": "3.6.8"
  }
 },
 "nbformat": 4,
 "nbformat_minor": 2
}
